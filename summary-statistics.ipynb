{
 "cells": [
  {
   "cell_type": "markdown",
   "id": "185fb3d8",
   "metadata": {},
   "source": [
    "# Part 1 "
   ]
  },
  {
   "cell_type": "code",
   "execution_count": 1,
   "id": "a6c155a1",
   "metadata": {},
   "outputs": [
    {
     "name": "stdout",
     "output_type": "stream",
     "text": [
      "D:\\Janis\\Downloads\\资产定价（投资学）\\data\n"
     ]
    }
   ],
   "source": [
    "cd D:\\Janis\\Downloads\\资产定价（投资学）\\data"
   ]
  },
  {
   "cell_type": "code",
   "execution_count": 2,
   "id": "c679986e",
   "metadata": {},
   "outputs": [],
   "source": [
    "import pandas as pd"
   ]
  },
  {
   "cell_type": "code",
   "execution_count": 36,
   "id": "d5e7683b",
   "metadata": {},
   "outputs": [],
   "source": [
    "d_stk = pd.read_sas('a1_data_stocks.sas7bdat')"
   ]
  },
  {
   "cell_type": "code",
   "execution_count": 43,
   "id": "cf61799f",
   "metadata": {},
   "outputs": [],
   "source": [
    "gensig = d_stk[d_stk['PERMNO'] == 12095]\n",
    "gensig.name = \"gensig\"\n",
    "wgl = d_stk[d_stk['PERMNO'] == 15472]\n",
    "wgl.name = \"wgl\"\n",
    "itlake = d_stk[d_stk['PERMNO'] == 15747]\n",
    "itlake.name = \"itlake\""
   ]
  },
  {
   "cell_type": "code",
   "execution_count": 44,
   "id": "93476a13",
   "metadata": {},
   "outputs": [],
   "source": [
    "def print_univariate_statistics( df ):\n",
    "    print(df.name + \".mean=\",df['RET'].mean())\n",
    "    print(df.name + \".std=\",df['RET'].std())\n",
    "    print(df.name + \".skew=\",df['RET'].skew())\n",
    "    print(df.name + \".kurt=\",df['RET'].kurt())\n",
    "    print(df.name + \".min=\",df['RET'].min())\n",
    "    print(df.name + \".max=\",df['RET'].max())"
   ]
  },
  {
   "cell_type": "code",
   "execution_count": 45,
   "id": "e1f32713",
   "metadata": {},
   "outputs": [
    {
     "name": "stdout",
     "output_type": "stream",
     "text": [
      "gensig.mean= 0.0005384913962517579\n",
      "gensig.std= 0.01660579870155393\n",
      "gensig.skew= 0.006147095147682125\n",
      "gensig.kurt= 3.348573263907502\n",
      "gensig.min= -0.1346153914928436\n",
      "gensig.max= 0.09428571164608\n",
      "wgl.mean= 0.000718630604623612\n",
      "wgl.std= 0.014457717199920582\n",
      "wgl.skew= -0.0032873108237338007\n",
      "wgl.kurt= 11.027898966633048\n",
      "wgl.min= -0.1867283880710602\n",
      "wgl.max= 0.1188524588942528\n",
      "itlake.mean= 0.0004311164104247514\n",
      "itlake.std= 0.021558440123948357\n",
      "itlake.skew= 0.7212010671576428\n",
      "itlake.kurt= 12.352192867014283\n",
      "itlake.min= -0.1724137961864471\n",
      "itlake.max= 0.2307692319154739\n"
     ]
    }
   ],
   "source": [
    "print_univariate_statistics(gensig)\n",
    "print_univariate_statistics(wgl)\n",
    "print_univariate_statistics(itlake)"
   ]
  },
  {
   "cell_type": "markdown",
   "id": "872e6030",
   "metadata": {},
   "source": [
    "# Part 2"
   ]
  },
  {
   "cell_type": "code",
   "execution_count": 46,
   "id": "3e341094",
   "metadata": {},
   "outputs": [],
   "source": [
    "d_ind = pd.read_sas('a1_data_indices.sas7bdat')"
   ]
  },
  {
   "cell_type": "code",
   "execution_count": 47,
   "id": "79f95333",
   "metadata": {},
   "outputs": [],
   "source": [
    "d_merge = pd.merge(pd.DataFrame(itlake, columns=['RET','DATE']),pd.DataFrame(d_ind, columns=['vwretd','caldt']),left_on = \"DATE\",right_on = \"caldt\")\n",
    "d_merge.drop(['caldt'], axis = 1, inplace=True)\n",
    "d_merge.columns = [\"itlake_ret\", \"date\", \"vw_ret\"]"
   ]
  },
  {
   "cell_type": "code",
   "execution_count": 48,
   "id": "ea717a89",
   "metadata": {},
   "outputs": [
    {
     "name": "stdout",
     "output_type": "stream",
     "text": [
      "   itlake_ret       date    vw_ret  itlake_excess_ret\n",
      "0   -0.010256 1962-07-03  0.011296          -0.021552\n",
      "1    0.000000 1962-07-05  0.006013          -0.006013\n",
      "2    0.010363 1962-07-06 -0.010709           0.021072\n",
      "3    0.000000 1962-07-09  0.006770          -0.006770\n",
      "4    0.005128 1962-07-10  0.012571          -0.007443\n"
     ]
    }
   ],
   "source": [
    "d_merge['itlake_excess_ret'] = d_merge['itlake_ret'] - d_merge['vw_ret']\n",
    "print(d_merge.head(5))"
   ]
  },
  {
   "cell_type": "code",
   "execution_count": 49,
   "id": "275c2fd3",
   "metadata": {},
   "outputs": [
    {
     "name": "stdout",
     "output_type": "stream",
     "text": [
      "itlake_excess_ret.mean= -6.609454975419493e-06\n",
      "itlake_excess_ret.std= 0.0208214439514175\n",
      "itlake_excess_ret.skew= 0.7352145454802111\n",
      "itlake_excess_ret.kurt= 12.60220862045459\n",
      "itlake_excess_ret.min= -0.1733796618864471\n",
      "itlake_excess_ret.max= 0.2239592829154739\n"
     ]
    }
   ],
   "source": [
    "print(\"itlake_excess_ret.mean=\",d_merge['itlake_excess_ret'].mean())\n",
    "print(\"itlake_excess_ret.std=\",d_merge['itlake_excess_ret'].std())\n",
    "print(\"itlake_excess_ret.skew=\",d_merge['itlake_excess_ret'].skew())\n",
    "print(\"itlake_excess_ret.kurt=\",d_merge['itlake_excess_ret'].kurt())\n",
    "print(\"itlake_excess_ret.min=\",d_merge['itlake_excess_ret'].min())\n",
    "print(\"itlake_excess_ret.max=\",d_merge['itlake_excess_ret'].max())"
   ]
  },
  {
   "cell_type": "code",
   "execution_count": null,
   "id": "521e7096",
   "metadata": {},
   "outputs": [],
   "source": []
  }
 ],
 "metadata": {
  "kernelspec": {
   "display_name": "Python 3 (ipykernel)",
   "language": "python",
   "name": "python3"
  },
  "language_info": {
   "codemirror_mode": {
    "name": "ipython",
    "version": 3
   },
   "file_extension": ".py",
   "mimetype": "text/x-python",
   "name": "python",
   "nbconvert_exporter": "python",
   "pygments_lexer": "ipython3",
   "version": "3.7.0"
  }
 },
 "nbformat": 4,
 "nbformat_minor": 5
}
