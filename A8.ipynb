{
 "cells": [
  {
   "cell_type": "code",
   "execution_count": 1,
   "id": "c2b8f773",
   "metadata": {},
   "outputs": [],
   "source": [
    "import pandas as pd\n",
    "import numpy as np\n",
    "import os\n",
    "from scipy import stats\n",
    "import datetime\n",
    "import statsmodels.formula.api as smf"
   ]
  },
  {
   "cell_type": "code",
   "execution_count": 2,
   "id": "8c55e445",
   "metadata": {},
   "outputs": [],
   "source": [
    "os.chdir('D:\\Janis\\Desktop\\研一上\\资产定价（投资学）\\A8')\n",
    "funds = pd.read_sas('funds_for_assignment_8.sas7bdat')\n",
    "mfret = pd.read_sas('MFret.sas7bdat')\n",
    "ff = pd.read_csv('FF_monthly.csv')"
   ]
  },
  {
   "cell_type": "code",
   "execution_count": 3,
   "id": "52986997",
   "metadata": {},
   "outputs": [],
   "source": [
    "ff.columns = ['date','mkt_rf','smb','hml','rf']\n",
    "ff['date'] = pd.to_datetime(ff['date'],format='%Y%m')\n",
    "ff['mkt'] = ff['mkt_rf']+ff['rf']\n",
    "ff['date'] = ff['date']-datetime.timedelta(days=1)\n",
    "mfret.columns = mfret.columns.map(lambda x:x.lower())"
   ]
  },
  {
   "cell_type": "code",
   "execution_count": 28,
   "id": "b2a15ecf",
   "metadata": {},
   "outputs": [],
   "source": [
    "ret = pd.merge(mfret,funds, on = 'crsp_fundno')\n",
    "ret = ret.rename(columns={'caldt':'date'})\n",
    "ret = pd.merge(ret,ff,on = 'date')\n",
    "ret = ret.dropna(subset=['mret'])\n",
    "ret['obs'] = 1"
   ]
  },
  {
   "cell_type": "code",
   "execution_count": 29,
   "id": "870ac148",
   "metadata": {},
   "outputs": [],
   "source": [
    "reta = ret[ret['type']==b'A']\n",
    "retb = ret[ret['type']==b'B']\n",
    "retc = ret[ret['type']==b'C']\n",
    "retd = ret[ret['type']==b'D']"
   ]
  },
  {
   "cell_type": "code",
   "execution_count": 49,
   "id": "3e2cd721",
   "metadata": {},
   "outputs": [],
   "source": [
    "def calc(ret):\n",
    "    def f(group):\n",
    "        group['nobs'] = group.loc[(group['date']>=datetime.datetime(1990,1,1))&(group['date']<=datetime.datetime(2008,12,31)),'obs'].sum()\n",
    "        return group\n",
    "    ret = ret.groupby('crsp_fundno').apply(f)\n",
    "    print(\"-----------------Small Cap Value: Sample Analysis-----------------\")\n",
    "    print('sufficient:',ret.loc[ret['nobs']>=114,'crsp_fundno'].unique().shape[0])\n",
    "    print('unsufficient:',ret.loc[ret['nobs']<114,'crsp_fundno'].unique().shape[0])\n",
    "    ret = ret[ret['nobs']>=114]\n",
    "    ret['mret'] = ret['mret']-ret['mkt']\n",
    "    def des(x):\n",
    "        print(\"mean:\",\"%.5f\"%x.mean(),\n",
    "    \"min:\",\"%.5f\"%x.min(),\n",
    "    \"max:\",\"%.5f\"%x.max(),\n",
    "    \"median:\",\"%.5f\"%x.median()\n",
    "    )\n",
    "    print(\"-----------------Small Cap Value: Average Excess Returns over Market Return-----------------\")\n",
    "    des(ret['mret'])\n",
    "    def f2(group):\n",
    "        model = smf.ols('mret~1+mkt_rf+smb+hml',group).fit()\n",
    "        pa = model.params.to_frame()\n",
    "        t = model.tvalues.to_frame()\n",
    "        ans = pd.concat([pa,t],axis=1).reset_index()\n",
    "        ans.columns=['coef','pa','t']\n",
    "        ans['id'] = group.index[0]\n",
    "        global result\n",
    "        result = pd.concat([result,ans])\n",
    "    global result\n",
    "    temp = ret.groupby('crsp_fundno').apply(f2)\n",
    "    result['crsp_fundno'] = list(ret['crsp_fundno'][result['id']])\n",
    "    result = result[['crsp_fundno','coef','pa','t']]\n",
    "    def anlys(x):\n",
    "        mean = result.loc[result['coef']==x,'pa']\n",
    "        t = result.loc[result['coef']==x,'t']\n",
    "        des(mean)\n",
    "        print('sign+', np.sum((t>2)!=0),'sign-',np.sum((t<-2)!=0))\n",
    "    print(\"-----------------Small Cap Value: Analysis of Coefficients using FF Model-----------------\")\n",
    "    anlys('Intercept')\n",
    "    anlys('mkt_rf')\n",
    "    anlys('smb')\n",
    "    anlys('hml')\n",
    "    def f3(group):\n",
    "        l = group['mret']-group['rf']\n",
    "        group['sharp'] = l.mean()/group['mret'].std()\n",
    "        return group\n",
    "    ret = ret.groupby('crsp_fundno').apply(f3)\n",
    "    sharp = ret['sharp'].drop_duplicates()\n",
    "    print(\"-----------------Small Cap Value: Sharpe Ratio-----------------\")\n",
    "    des(sharp)"
   ]
  },
  {
   "cell_type": "code",
   "execution_count": 50,
   "id": "e6361546",
   "metadata": {},
   "outputs": [
    {
     "name": "stdout",
     "output_type": "stream",
     "text": [
      "-----------------Small Cap Value: Sample Analysis-----------------\n",
      "sufficient: 320\n",
      "unsufficient: 1233\n",
      "-----------------Small Cap Value: Average Excess Returns over Market Return-----------------\n",
      "mean: -0.94111 min: -16.77129 max: 22.67294 median: -1.35691\n",
      "-----------------Small Cap Value: Analysis of Coefficients using FF Model-----------------\n",
      "mean: -0.27154 min: -0.49079 max: -0.18950 median: -0.24393\n",
      "sign+ 0 sign- 320\n",
      "mean: -0.99724 min: -1.00267 max: -0.99460 median: -0.99695\n",
      "sign+ 0 sign- 320\n",
      "mean: 0.00455 min: 0.00055 max: 0.02185 median: 0.00300\n",
      "sign+ 44 sign- 0\n",
      "mean: 0.00072 min: -0.00469 max: 0.01542 median: -0.00019\n",
      "sign+ 15 sign- 0\n",
      "-----------------Small Cap Value: Sharpe Ratio-----------------\n",
      "mean: -0.26503 min: -0.36062 max: -0.18913 median: -0.24273\n"
     ]
    }
   ],
   "source": [
    "result = pd.DataFrame(columns=['coef','pa','t','id'])\n",
    "calc(reta)"
   ]
  },
  {
   "cell_type": "code",
   "execution_count": 51,
   "id": "be4e99e0",
   "metadata": {},
   "outputs": [
    {
     "name": "stdout",
     "output_type": "stream",
     "text": [
      "-----------------Small Cap Value: Sample Analysis-----------------\n",
      "sufficient: 324\n",
      "unsufficient: 2012\n",
      "-----------------Small Cap Value: Average Excess Returns over Market Return-----------------\n",
      "mean: -0.92891 min: -16.82647 max: 22.66132 median: -1.35327\n",
      "-----------------Small Cap Value: Analysis of Coefficients using FF Model-----------------\n",
      "mean: -0.28303 min: -0.48895 max: -0.18584 median: -0.27569\n",
      "sign+ 0 sign- 324\n",
      "mean: -0.99686 min: -1.00119 max: -0.99428 median: -0.99661\n",
      "sign+ 0 sign- 324\n",
      "mean: 0.00427 min: -0.00021 max: 0.01555 median: 0.00442\n",
      "sign+ 27 sign- 0\n",
      "mean: 0.00071 min: -0.00452 max: 0.01524 median: 0.00034\n",
      "sign+ 11 sign- 0\n",
      "-----------------Small Cap Value: Sharpe Ratio-----------------\n",
      "mean: -0.26260 min: -0.37197 max: -0.18352 median: -0.24517\n"
     ]
    }
   ],
   "source": [
    "result = pd.DataFrame(columns=['coef','pa','t','id'])\n",
    "calc(retb)"
   ]
  },
  {
   "cell_type": "code",
   "execution_count": 52,
   "id": "8de6aea8",
   "metadata": {},
   "outputs": [
    {
     "name": "stdout",
     "output_type": "stream",
     "text": [
      "-----------------Small Cap Value: Sample Analysis-----------------\n",
      "sufficient: 160\n",
      "unsufficient: 1101\n",
      "-----------------Small Cap Value: Average Excess Returns over Market Return-----------------\n",
      "mean: -0.88682 min: -16.75804 max: 22.65014 median: -1.33725\n",
      "-----------------Small Cap Value: Analysis of Coefficients using FF Model-----------------\n",
      "mean: -0.25670 min: -0.49021 max: -0.18163 median: -0.24854\n",
      "sign+ 0 sign- 160\n",
      "mean: -0.99610 min: -1.00009 max: -0.99380 median: -0.99598\n",
      "sign+ 0 sign- 160\n",
      "mean: 0.00318 min: -0.00179 max: 0.01340 median: 0.00232\n",
      "sign+ 16 sign- 0\n",
      "mean: 0.00008 min: -0.00612 max: 0.01386 median: -0.00165\n",
      "sign+ 6 sign- 0\n",
      "-----------------Small Cap Value: Sharpe Ratio-----------------\n",
      "mean: -0.25411 min: -0.36922 max: -0.17567 median: -0.24169\n"
     ]
    }
   ],
   "source": [
    "result = pd.DataFrame(columns=['coef','pa','t','id'])\n",
    "calc(retc)"
   ]
  },
  {
   "cell_type": "code",
   "execution_count": 53,
   "id": "88d82d72",
   "metadata": {},
   "outputs": [
    {
     "name": "stdout",
     "output_type": "stream",
     "text": [
      "-----------------Small Cap Value: Sample Analysis-----------------\n",
      "sufficient: 203\n",
      "unsufficient: 278\n",
      "-----------------Small Cap Value: Average Excess Returns over Market Return-----------------\n",
      "mean: -0.94768 min: -12.90053 max: 22.62426 median: -1.37069\n",
      "-----------------Small Cap Value: Analysis of Coefficients using FF Model-----------------\n",
      "mean: -0.27917 min: -0.52067 max: -0.19007 median: -0.26323\n",
      "sign+ 0 sign- 203\n",
      "mean: -0.99739 min: -1.00193 max: -0.99218 median: -0.99718\n",
      "sign+ 0 sign- 203\n",
      "mean: 0.00219 min: -0.00156 max: 0.01062 median: 0.00126\n",
      "sign+ 17 sign- 0\n",
      "mean: -0.00101 min: -0.00629 max: 0.01297 median: -0.00227\n",
      "sign+ 7 sign- 0\n",
      "-----------------Small Cap Value: Sharpe Ratio-----------------\n",
      "mean: -0.27075 min: -0.40219 max: -0.18540 median: -0.24959\n"
     ]
    }
   ],
   "source": [
    "result = pd.DataFrame(columns=['coef','pa','t','id'])\n",
    "calc(retd)"
   ]
  },
  {
   "cell_type": "code",
   "execution_count": null,
   "id": "ce004494",
   "metadata": {},
   "outputs": [],
   "source": []
  }
 ],
 "metadata": {
  "kernelspec": {
   "display_name": "Python 3 (ipykernel)",
   "language": "python",
   "name": "python3"
  },
  "language_info": {
   "codemirror_mode": {
    "name": "ipython",
    "version": 3
   },
   "file_extension": ".py",
   "mimetype": "text/x-python",
   "name": "python",
   "nbconvert_exporter": "python",
   "pygments_lexer": "ipython3",
   "version": "3.7.0"
  }
 },
 "nbformat": 4,
 "nbformat_minor": 5
}
